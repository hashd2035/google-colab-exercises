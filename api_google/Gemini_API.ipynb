{
  "nbformat": 4,
  "nbformat_minor": 0,
  "metadata": {
    "colab": {
      "provenance": [],
      "authorship_tag": "ABX9TyNx4N/tH1KvXyv1QHTmO7T6",
      "include_colab_link": true
    },
    "kernelspec": {
      "name": "python3",
      "display_name": "Python 3"
    },
    "language_info": {
      "name": "python"
    }
  },
  "cells": [
    {
      "cell_type": "markdown",
      "metadata": {
        "id": "view-in-github",
        "colab_type": "text"
      },
      "source": [
        "<a href=\"https://colab.research.google.com/github/hashd2035/google-colab-exercises/blob/main/api_google/Gemini_API.ipynb\" target=\"_parent\"><img src=\"https://colab.research.google.com/assets/colab-badge.svg\" alt=\"Open In Colab\"/></a>"
      ]
    },
    {
      "cell_type": "code",
      "execution_count": null,
      "metadata": {
        "id": "PE32UIdx0ISy"
      },
      "outputs": [],
      "source": [
        "from google.colab import userdata\n",
        "userdata.get('gemini_apikey')"
      ]
    },
    {
      "cell_type": "code",
      "source": [],
      "metadata": {
        "id": "sYDY7_tf0h8s"
      },
      "execution_count": null,
      "outputs": []
    },
    {
      "cell_type": "code",
      "source": [
        "import airflow\n",
        "airflow.__version__\n",
        "\n",
        "from airflow.models import DAG\n",
        "vars(airflow)"
      ],
      "metadata": {
        "id": "5_vcvjU_07kE"
      },
      "execution_count": null,
      "outputs": []
    }
  ]
}